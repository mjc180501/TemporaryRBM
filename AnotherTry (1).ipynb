{
 "cells": [
  {
   "cell_type": "markdown",
   "id": "046f656a-0468-4b18-9b56-ebc592166435",
   "metadata": {},
   "source": [
    "# The Quantum Harmonic Oscillator "
   ]
  },
  {
   "cell_type": "markdown",
   "id": "7c83e393-c83d-4d9d-bcb1-e6f22dceaf44",
   "metadata": {},
   "source": [
    "The quantum harmonic oscilltor is a quantum system in which a molecule undergoes simple harmonic motion. The behavior of the molecule can be represented mathematically using the Schrödinger Equation. However, solving the equation often takes a lot of time and is computationally expensive. In the following chapter, we will introduce a framework for approximating the equation in such a way that the time it takes to solve is much lower. This is acheived through a collection of methods known as Reduced Basis Methods. "
   ]
  },
  {
   "cell_type": "markdown",
   "id": "6ac5b268-ace7-4600-b6df-205b45511f95",
   "metadata": {},
   "source": [
    "## Table of Contents\n",
    "### Introduction to Quantum Harmonic Oscillator\n",
    "### High Fidelity Solver\n",
    "#### - Finite Difference Method\n",
    "#### - Comparison to Exact\n",
    "### Reduced Basic Method\n",
    "#### - SVD/Principal Components\n",
    "#### - M0, M1, and N Matrices\n",
    "#### - Compare Solutions \n",
    "### Conclusion"
   ]
  },
  {
   "cell_type": "markdown",
   "id": "2b4eaf58-e86b-408d-9c09-e9be01e3c2bd",
   "metadata": {},
   "source": [
    "### Introduction to the Quantum Harmonic Oscillator and Schrödinger Equation\n",
    "The quantum harmonic oscillator system is comprised of a molecule in simple harmonic motion. While an object in simple harmonic motion can be described with less complicated equations, the inclusion of quantum mechanics complicates things for a molecule in harmonic motion. Regardless, the system is well known and established. For that reason, it is a great toy problem for demonstrating the power of RBMs. "
   ]
  },
  {
   "cell_type": "markdown",
   "id": "775dfee2-8907-4c63-91a4-540a4513ddc7",
   "metadata": {},
   "source": [
    "$$ (\\frac{d^2}{dx^2} + \\alpha x^2 - \\lambda )\\phi(x) = 0 $$"
   ]
  },
  {
   "cell_type": "markdown",
   "id": "2dfdeaf9-b9dc-442a-b5f8-66352fee078d",
   "metadata": {},
   "source": [
    "The first term is the second derivative, which can be expressed as a matrix. It describes the kinetic energy of the system. The second term is the potential energy of the system, and it is multiplied by some value alpha. Alpha is the harmonic parameter, and lambda is the eigenvalue. According to textbooks, $$ \\lambda = 2mE/\\hbar^2 $$ and $$ a = (m\\omega/\\hbar)^2 $$"
   ]
  },
  {
   "cell_type": "markdown",
   "id": "adb74911",
   "metadata": {},
   "source": [
    "This system/equation does have analytical soltions. However, most quantum systems do not have analytical solutions due to their complexity. Because the quantum harmonic oscillator system can be solved easily, we can easily compare the different methods in terms of error and time. "
   ]
  },
  {
   "cell_type": "markdown",
   "id": "6476310c-1370-4275-a2ad-6518264c562a",
   "metadata": {},
   "source": [
    "### High Fidelity Solver\n",
    "First, we will create a high fidelity solver. Using this method will take some time, but it will have a realtively low error. This method entails creating matrices for each of the terms in the equation. The kinetic energy term and the potential energy term. T is the kinetic term. V is the potential term, and the overall system can be represented by H for some value of alpha. \n",
    "$$ T\\phi(x)=-\\frac{d^2}{dx^2}\\phi(x),\\quad V_\\alpha(x)\\phi(x)=\\alpha x^2\\phi(x),\\quad H_\\alpha(x)=T+V(x) $$"
   ]
  },
  {
   "cell_type": "markdown",
   "id": "5b86ad65-7b8c-4338-bdc0-3f28f9bbe66c",
   "metadata": {},
   "source": [
    "Here are the libraries we will use in the following code"
   ]
  },
  {
   "cell_type": "code",
   "execution_count": 13,
   "id": "df6addab",
   "metadata": {},
   "outputs": [],
   "source": [
    "import numpy as np\n",
    "import matplotlib.pyplot as plt\n",
    "import time\n",
    "import scipy as sci\n",
    "from scipy import optimize\n",
    "import time \n",
    "from scipy import linalg"
   ]
  },
  {
   "cell_type": "markdown",
   "id": "08352c2c-2b66-415a-bd58-bc32c7331ce4",
   "metadata": {},
   "source": [
    "We now must create the functions to represent the terms in the equation above. \n",
    "The first function is the second derivative, and it creates it in a matrix form. The next term creates the potential matrix. The third equation combines them both. "
   ]
  },
  {
   "cell_type": "code",
   "execution_count": 14,
   "id": "17163508",
   "metadata": {},
   "outputs": [],
   "source": [
    "\n",
    "def hf_second_derivative(xgrid):\n",
    "    N = len(xgrid)\n",
    "    dx = xgrid[1] - xgrid[0]\n",
    "\n",
    "    # Generate the matrix for the second derivative using a five-point stencil\n",
    "    main_diag = np.ones(N) * (-5.0 / 2 / dx**2)\n",
    "    off_diag = np.ones(N - 1) * 4 / 3 / dx**2\n",
    "    off_diag2 = np.ones(N - 2) * (-1.0 / (12 * dx**2))\n",
    "\n",
    "    D2 = np.diag(main_diag) + np.diag(off_diag, k=1) + np.diag(\n",
    "      off_diag, k=-1) + np.diag(off_diag2, k=2) + np.diag(off_diag2, k=-2)\n",
    "\n",
    "    return D2\n",
    "    \n",
    "def hf_potential(xgrid):\n",
    "      return np.diag(xgrid**2)\n"
   ]
  },
  {
   "cell_type": "markdown",
   "id": "69c1074e-fe61-415d-b633-faca4b61a7e0",
   "metadata": {},
   "source": [
    "We can determine the exact solutions of the quantum harmonic oscillator, because it isn't too complicated to solve from a mathematical standpoint. So, we can use the exact lambda function to determine the error in our programmed solutions. "
   ]
  },
  {
   "cell_type": "code",
   "execution_count": 15,
   "id": "8787e0a4",
   "metadata": {},
   "outputs": [],
   "source": [
    "def getExactLambda(alpha):\n",
    "  n = 0\n",
    "  return 2 * (.5 + n) * np.sqrt(alpha / 1**2)"
   ]
  },
  {
   "cell_type": "markdown",
   "id": "bbff5d13-21a2-40e6-aebd-528944c19d6d",
   "metadata": {},
   "source": [
    "#### Finite Difference Method\n",
    "Finite difference method discretizes the space and divides the wavefunction of the particle into some amount of points. We can use this to simplify the wavefunction and treat it as a collection of points. This method is meant to find the high fidelity solution to the system. "
   ]
  },
  {
   "cell_type": "markdown",
   "id": "9d690dcc-ff68-4fb9-af18-e6c77b5a481c",
   "metadata": {},
   "source": [
    "Below are some variables needed to apply this method. Firstly, numpy is used to create the space over which the wavefunction is discretized. Some alpha values are also established which will be used later on. "
   ]
  },
  {
   "cell_type": "code",
   "execution_count": 16,
   "id": "b46eafe4",
   "metadata": {},
   "outputs": [],
   "source": [
    "x_max = 10.0\n",
    "h = 10**(-1)\n",
    "x = np.arange(-x_max, x_max + h, h)\n",
    "N_grid = x.shape[0]\n",
    "alphas = np.arange(0.5, 15.5, 0.5)\n",
    "m = np.zeros((len(alphas), N_grid))"
   ]
  },
  {
   "cell_type": "markdown",
   "id": "e43f678a",
   "metadata": {},
   "source": [
    "The timing function is meant to determine the time it takes to solve the high fidelity solution for a certain alpha value. The next functions combine the kinetic and potential terms, and then solve for the eigenvalues and eigenvectors. "
   ]
  },
  {
   "cell_type": "code",
   "execution_count": 17,
   "id": "546c2ff0",
   "metadata": {},
   "outputs": [],
   "source": [
    "def timing(H, int):\n",
    "  solveTime = []\n",
    "  for i in range(int):\n",
    "    time0 = time.time()\n",
    "    evals, evects = np.linalg.eigh(H)\n",
    "    time1 = time.time()\n",
    "  solveTime.append(time1-time0)\n",
    "  avg = sum(solveTime)/len(solveTime)\n",
    "  return avg\n",
    "\n",
    "def HO_creator(alpha, D2Mat, vpot):\n",
    "  return -D2Mat + alpha * vpot\n",
    "\n",
    "def HO_solver(H):\n",
    "  evals, evects = np.linalg.eigh(H)\n",
    "  solveTime = timing(H, 10)\n",
    "  return evals, evects, solveTime\n"
   ]
  },
  {
   "cell_type": "markdown",
   "id": "ad69ce39",
   "metadata": {},
   "source": [
    "Below we have to create functions for each different spacing. The different spacings, or h values, increase how big the matrix for the kinetic and potential terms will be. A smaller h value corresponds to a longer computing time. Warning, depending on how small the h values are, the code might run very slowly!"
   ]
  },
  {
   "cell_type": "code",
   "execution_count": 18,
   "id": "956c1938",
   "metadata": {},
   "outputs": [],
   "source": [
    "def create_functions(h):\n",
    "  x_max = 10.0 \n",
    "  x = np.arange(-x_max, x_max + h, h)\n",
    "  D20 = hf_second_derivative(x)\n",
    "  V0 = hf_potential(x)\n",
    "  return D20, V0\n"
   ]
  },
  {
   "cell_type": "code",
   "execution_count": 19,
   "id": "6bfff244",
   "metadata": {},
   "outputs": [],
   "source": [
    "h_list = [1/10, 1/20, 1/30]\n",
    "\n",
    "htimes = []\n",
    "herrors = []\n",
    "\n",
    "i = 0\n",
    "for h in h_list:\n",
    "  D20, V0 = create_functions(h)\n",
    "  for alpha in range(5, 105, 5):\n",
    "    alpha = alpha/10\n",
    "\n",
    "    exactEigenvalue = getExactLambda(alpha)\n",
    "    \n",
    "    H= HO_creator(alpha, D20, V0)\n",
    "    evals, evects, t1me = HO_solver(H)\n",
    "\n",
    "    err = abs(((evals[0]-exactEigenvalue)/exactEigenvalue))\n",
    "\n",
    "    htimes.append(t1me)\n",
    "    herrors.append(err)\n"
   ]
  },
  {
   "cell_type": "markdown",
   "id": "667782ba",
   "metadata": {},
   "source": [
    "Below, we create a vector of solutions. It consists of the solutions for each alpha value in the list above. These solutions correspond to the wavefunctions for each solved system. You can see many of these wavefunctions plotted under the next block of code. Notice that they look pretty similar!"
   ]
  },
  {
   "cell_type": "code",
   "execution_count": 20,
   "id": "dabb40a4",
   "metadata": {},
   "outputs": [
    {
     "ename": "ValueError",
     "evalue": "could not broadcast input array from shape (601,) into shape (201,)",
     "output_type": "error",
     "traceback": [
      "\u001b[0;31m---------------------------------------------------------------------------\u001b[0m",
      "\u001b[0;31mValueError\u001b[0m                                Traceback (most recent call last)",
      "\u001b[1;32m/workspaces/TemporaryRBM/AnotherTry (1).ipynb Cell 24\u001b[0m line \u001b[0;36m7\n\u001b[1;32m      <a href='vscode-notebook-cell://codespaces%2Bideal-meme-v6v445xgx6j4hq4p/workspaces/TemporaryRBM/AnotherTry%20%281%29.ipynb#X32sdnNjb2RlLXJlbW90ZQ%3D%3D?line=3'>4</a>\u001b[0m evals, evects, Stime \u001b[39m=\u001b[39m HO_solver(H)\n\u001b[1;32m      <a href='vscode-notebook-cell://codespaces%2Bideal-meme-v6v445xgx6j4hq4p/workspaces/TemporaryRBM/AnotherTry%20%281%29.ipynb#X32sdnNjb2RlLXJlbW90ZQ%3D%3D?line=4'>5</a>\u001b[0m \u001b[39m# m[i] = (evects[0] / np.linalg.norm(evects[0])*np.sign(evects[0][  int(len(x)/2)  ]))\u001b[39;00m\n\u001b[1;32m      <a href='vscode-notebook-cell://codespaces%2Bideal-meme-v6v445xgx6j4hq4p/workspaces/TemporaryRBM/AnotherTry%20%281%29.ipynb#X32sdnNjb2RlLXJlbW90ZQ%3D%3D?line=5'>6</a>\u001b[0m \u001b[39m# m[i] = evects[0] / np.linalg.norm(evects[0])*np.sign(evects[0][  int(len(x)/2)  ])\u001b[39;00m\n\u001b[0;32m----> <a href='vscode-notebook-cell://codespaces%2Bideal-meme-v6v445xgx6j4hq4p/workspaces/TemporaryRBM/AnotherTry%20%281%29.ipynb#X32sdnNjb2RlLXJlbW90ZQ%3D%3D?line=6'>7</a>\u001b[0m m[i] \u001b[39m=\u001b[39m evects[:,\u001b[39m0\u001b[39m]\n",
      "\u001b[0;31mValueError\u001b[0m: could not broadcast input array from shape (601,) into shape (201,)"
     ]
    }
   ],
   "source": [
    "for i,alpha in enumerate(alphas):\n",
    "    alpha = alphas[i]\n",
    "    H = HO_creator(alpha, D20, V0)\n",
    "    evals, evects, Stime = HO_solver(H)\n",
    "    # m[i] = (evects[0] / np.linalg.norm(evects[0])*np.sign(evects[0][  int(len(x)/2)  ]))\n",
    "    # m[i] = evects[0] / np.linalg.norm(evects[0])*np.sign(evects[0][  int(len(x)/2)  ])\n",
    "    m[i] = evects[:,0]\n"
   ]
  },
  {
   "cell_type": "code",
   "execution_count": null,
   "id": "87d9f9f4",
   "metadata": {},
   "outputs": [
    {
     "ename": "ValueError",
     "evalue": "x and y must have same first dimension, but have shapes (201,) and (30,)",
     "output_type": "error",
     "traceback": [
      "\u001b[0;31m---------------------------------------------------------------------------\u001b[0m",
      "\u001b[0;31mValueError\u001b[0m                                Traceback (most recent call last)",
      "\u001b[1;32m/workspaces/TemporaryRBM/AnotherTry (1).ipynb Cell 25\u001b[0m line \u001b[0;36m5\n\u001b[1;32m      <a href='vscode-notebook-cell://codespaces%2Bideal-meme-v6v445xgx6j4hq4p/workspaces/TemporaryRBM/AnotherTry%20%281%29.ipynb#X35sdnNjb2RlLXJlbW90ZQ%3D%3D?line=2'>3</a>\u001b[0m m \u001b[39m=\u001b[39m m\u001b[39m.\u001b[39mT\n\u001b[1;32m      <a href='vscode-notebook-cell://codespaces%2Bideal-meme-v6v445xgx6j4hq4p/workspaces/TemporaryRBM/AnotherTry%20%281%29.ipynb#X35sdnNjb2RlLXJlbW90ZQ%3D%3D?line=3'>4</a>\u001b[0m \u001b[39mfor\u001b[39;00m i \u001b[39min\u001b[39;00m \u001b[39mrange\u001b[39m(\u001b[39mlen\u001b[39m(m)):\n\u001b[0;32m----> <a href='vscode-notebook-cell://codespaces%2Bideal-meme-v6v445xgx6j4hq4p/workspaces/TemporaryRBM/AnotherTry%20%281%29.ipynb#X35sdnNjb2RlLXJlbW90ZQ%3D%3D?line=4'>5</a>\u001b[0m    ax\u001b[39m.\u001b[39;49mplot(x, m[i])\n\u001b[1;32m      <a href='vscode-notebook-cell://codespaces%2Bideal-meme-v6v445xgx6j4hq4p/workspaces/TemporaryRBM/AnotherTry%20%281%29.ipynb#X35sdnNjb2RlLXJlbW90ZQ%3D%3D?line=6'>7</a>\u001b[0m ax\u001b[39m.\u001b[39mset_title(\u001b[39m\"\u001b[39m\u001b[39mSuper Plot :)\u001b[39m\u001b[39m\"\u001b[39m)\n\u001b[1;32m      <a href='vscode-notebook-cell://codespaces%2Bideal-meme-v6v445xgx6j4hq4p/workspaces/TemporaryRBM/AnotherTry%20%281%29.ipynb#X35sdnNjb2RlLXJlbW90ZQ%3D%3D?line=7'>8</a>\u001b[0m ax\u001b[39m.\u001b[39mset_xlabel(\u001b[39m\"\u001b[39m\u001b[39mx\u001b[39m\u001b[39m\"\u001b[39m)\n",
      "File \u001b[0;32m~/.local/lib/python3.10/site-packages/matplotlib/axes/_axes.py:1721\u001b[0m, in \u001b[0;36mAxes.plot\u001b[0;34m(self, scalex, scaley, data, *args, **kwargs)\u001b[0m\n\u001b[1;32m   1478\u001b[0m \u001b[39m\u001b[39m\u001b[39m\"\"\"\u001b[39;00m\n\u001b[1;32m   1479\u001b[0m \u001b[39mPlot y versus x as lines and/or markers.\u001b[39;00m\n\u001b[1;32m   1480\u001b[0m \n\u001b[0;32m   (...)\u001b[0m\n\u001b[1;32m   1718\u001b[0m \u001b[39m(``'green'``) or hex strings (``'#008000'``).\u001b[39;00m\n\u001b[1;32m   1719\u001b[0m \u001b[39m\"\"\"\u001b[39;00m\n\u001b[1;32m   1720\u001b[0m kwargs \u001b[39m=\u001b[39m cbook\u001b[39m.\u001b[39mnormalize_kwargs(kwargs, mlines\u001b[39m.\u001b[39mLine2D)\n\u001b[0;32m-> 1721\u001b[0m lines \u001b[39m=\u001b[39m [\u001b[39m*\u001b[39m\u001b[39mself\u001b[39m\u001b[39m.\u001b[39m_get_lines(\u001b[39mself\u001b[39m, \u001b[39m*\u001b[39margs, data\u001b[39m=\u001b[39mdata, \u001b[39m*\u001b[39m\u001b[39m*\u001b[39mkwargs)]\n\u001b[1;32m   1722\u001b[0m \u001b[39mfor\u001b[39;00m line \u001b[39min\u001b[39;00m lines:\n\u001b[1;32m   1723\u001b[0m     \u001b[39mself\u001b[39m\u001b[39m.\u001b[39madd_line(line)\n",
      "File \u001b[0;32m~/.local/lib/python3.10/site-packages/matplotlib/axes/_base.py:303\u001b[0m, in \u001b[0;36m_process_plot_var_args.__call__\u001b[0;34m(self, axes, data, *args, **kwargs)\u001b[0m\n\u001b[1;32m    301\u001b[0m     this \u001b[39m+\u001b[39m\u001b[39m=\u001b[39m args[\u001b[39m0\u001b[39m],\n\u001b[1;32m    302\u001b[0m     args \u001b[39m=\u001b[39m args[\u001b[39m1\u001b[39m:]\n\u001b[0;32m--> 303\u001b[0m \u001b[39myield from\u001b[39;00m \u001b[39mself\u001b[39;49m\u001b[39m.\u001b[39;49m_plot_args(\n\u001b[1;32m    304\u001b[0m     axes, this, kwargs, ambiguous_fmt_datakey\u001b[39m=\u001b[39;49mambiguous_fmt_datakey)\n",
      "File \u001b[0;32m~/.local/lib/python3.10/site-packages/matplotlib/axes/_base.py:499\u001b[0m, in \u001b[0;36m_process_plot_var_args._plot_args\u001b[0;34m(self, axes, tup, kwargs, return_kwargs, ambiguous_fmt_datakey)\u001b[0m\n\u001b[1;32m    496\u001b[0m     axes\u001b[39m.\u001b[39myaxis\u001b[39m.\u001b[39mupdate_units(y)\n\u001b[1;32m    498\u001b[0m \u001b[39mif\u001b[39;00m x\u001b[39m.\u001b[39mshape[\u001b[39m0\u001b[39m] \u001b[39m!=\u001b[39m y\u001b[39m.\u001b[39mshape[\u001b[39m0\u001b[39m]:\n\u001b[0;32m--> 499\u001b[0m     \u001b[39mraise\u001b[39;00m \u001b[39mValueError\u001b[39;00m(\u001b[39mf\u001b[39m\u001b[39m\"\u001b[39m\u001b[39mx and y must have same first dimension, but \u001b[39m\u001b[39m\"\u001b[39m\n\u001b[1;32m    500\u001b[0m                      \u001b[39mf\u001b[39m\u001b[39m\"\u001b[39m\u001b[39mhave shapes \u001b[39m\u001b[39m{\u001b[39;00mx\u001b[39m.\u001b[39mshape\u001b[39m}\u001b[39;00m\u001b[39m and \u001b[39m\u001b[39m{\u001b[39;00my\u001b[39m.\u001b[39mshape\u001b[39m}\u001b[39;00m\u001b[39m\"\u001b[39m)\n\u001b[1;32m    501\u001b[0m \u001b[39mif\u001b[39;00m x\u001b[39m.\u001b[39mndim \u001b[39m>\u001b[39m \u001b[39m2\u001b[39m \u001b[39mor\u001b[39;00m y\u001b[39m.\u001b[39mndim \u001b[39m>\u001b[39m \u001b[39m2\u001b[39m:\n\u001b[1;32m    502\u001b[0m     \u001b[39mraise\u001b[39;00m \u001b[39mValueError\u001b[39;00m(\u001b[39mf\u001b[39m\u001b[39m\"\u001b[39m\u001b[39mx and y can be no greater than 2D, but have \u001b[39m\u001b[39m\"\u001b[39m\n\u001b[1;32m    503\u001b[0m                      \u001b[39mf\u001b[39m\u001b[39m\"\u001b[39m\u001b[39mshapes \u001b[39m\u001b[39m{\u001b[39;00mx\u001b[39m.\u001b[39mshape\u001b[39m}\u001b[39;00m\u001b[39m and \u001b[39m\u001b[39m{\u001b[39;00my\u001b[39m.\u001b[39mshape\u001b[39m}\u001b[39;00m\u001b[39m\"\u001b[39m)\n",
      "\u001b[0;31mValueError\u001b[0m: x and y must have same first dimension, but have shapes (201,) and (30,)"
     ]
    },
    {
     "data": {
      "image/png": "[encoded data removed]",
      "text/plain": [
       "<Figure size 1920x1440 with 1 Axes>"
      ]
     },
     "metadata": {},
     "output_type": "display_data"
    }
   ],
   "source": [
    "fig, ax = plt.subplots(dpi=300)\n",
    "\n",
    "for i in range(len(m)):\n",
    "   ax.plot(x, m[i])\n",
    "\n",
    "ax.set_title(\"Super Plot :)\")\n",
    "ax.set_xlabel(\"x\")\n",
    "ax.set_ylabel(\"Wave Functions\")\n",
    "\n",
    "plt.show()"
   ]
  },
  {
   "cell_type": "markdown",
   "id": "afed39b3",
   "metadata": {},
   "source": [
    "One last thing. Let's graph the time it takes for these solutions to be computed and the error relative to an analytical solution. Notice a couple of things. Firstly, the error is really small for the high fidelity solution! This is great. Secondly, each of the \"clumps\" of points correspond to a different h value. Try to see if you can figure out which h value corresponds to which clump :)"
   ]
  },
  {
   "cell_type": "code",
   "execution_count": null,
   "id": "2b8350da",
   "metadata": {},
   "outputs": [
    {
     "name": "stderr",
     "output_type": "stream",
     "text": [
      "/tmp/ipykernel_2411/1821265767.py:11: UserWarning: Attempt to set non-positive xlim on a log-scaled axis will be ignored.\n",
      "  catAx.set(xscale='log',yscale='log',\n",
      "/tmp/ipykernel_2411/1821265767.py:11: UserWarning: Attempt to set non-positive ylim on a log-scaled axis will be ignored.\n",
      "  catAx.set(xscale='log',yscale='log',\n"
     ]
    },
    {
     "data": {
      "image/png": "[encoded data removed]",
      "text/plain": [
       "<Figure size 640x480 with 1 Axes>"
      ]
     },
     "metadata": {},
     "output_type": "display_data"
    }
   ],
   "source": [
    "maxT = max(htimes) + 10\n",
    "minT = min(htimes) - 10\n",
    "maxEr = max(herrors) + 10\n",
    "minEr = min(herrors) - 10\n",
    "\n",
    "catFig, catAx = plt.subplots()\n",
    "\n",
    "catAx.scatter(htimes,herrors,color='green',\n",
    "               marker='.',label='High Fidelity')\n",
    "\n",
    "catAx.set(xscale='log',yscale='log',\n",
    "           xlabel='Time (s)',ylabel='Eigenvalue Relative Error',\n",
    "           xlim=(minT, maxT),ylim=(minEr,maxEr))\n",
    "\n",
    "plt.legend()\n",
    "plt.show()"
   ]
  },
  {
   "cell_type": "markdown",
   "id": "5b6bfee5",
   "metadata": {},
   "source": [
    "### Reduced Basis Method\n",
    "That's super cool, and it's great that we were able to do that. But, what if we can make it faster? In a simple system like this, speed isn't the biggest deal in the world. However, in more complicated systems, time becomes much more important, and speeding up the system is neccesary. \n",
    "\n",
    "#### SVD/PCA\n",
    "\n",
    "For this approach to RBM, we use the high fidelity solver to build our approximation. In the following code we apply a machine learning technique to the data that effectively puts in a lower dimensionality space. If you aren't familiar with this idea, take a look at the following article: \n",
    "\n",
    "https://builtin.com/data-science/step-step-explanation-principal-component-analysis\n",
    "\n",
    "(not sure if I'm allowed to put this here)\n",
    "\n",
    "Luckily, we don't have to do the heavy lifting for this step. Instead, we can rely on the linalg.svd function from numpy. Work smarter not harder!"
   ]
  },
  {
   "cell_type": "code",
   "execution_count": null,
   "id": "2d379a09",
   "metadata": {},
   "outputs": [],
   "source": [
    "U, sigma, Vh = np.linalg.svd(m)\n",
    "components = 3\n",
    "reduced_basis = Vh[:components]\n",
    "\n",
    "reduced_basis = [reduced_basis[i]*np.sign(reduced_basis[i][  int(len(x)/2)  ]) for i in range(len(reduced_basis))]"
   ]
  },
  {
   "cell_type": "markdown",
   "id": "61d6f4b1",
   "metadata": {},
   "source": [
    "Curious what these components look like? Run the code below to see. Graph as many components as you want in the system. More components = more time, smaller error. For this example, we'll use three. "
   ]
  },
  {
   "cell_type": "code",
   "execution_count": null,
   "id": "843d9c36",
   "metadata": {},
   "outputs": [
    {
     "data": {
      "image/png": "[encoded data removed]",
      "text/plain": [
       "<Figure size 1920x1440 with 1 Axes>"
      ]
     },
     "metadata": {},
     "output_type": "display_data"
    }
   ],
   "source": [
    "fig, ax = plt.subplots(dpi=300)\n",
    "\n",
    "\n",
    "for i in range(len(reduced_basis)):\n",
    "    ax.plot(x, reduced_basis[i])\n",
    "\n",
    "ax.set_xlabel(\"x\")\n",
    "ax.set_ylabel(\"Principal Components\")\n",
    "\n",
    "plt.show()"
   ]
  },
  {
   "cell_type": "markdown",
   "id": "b9e48e43",
   "metadata": {},
   "source": [
    "From here we establish some of the variables and functions that we will need in the next part. "
   ]
  },
  {
   "cell_type": "code",
   "execution_count": null,
   "id": "c45b603f",
   "metadata": {},
   "outputs": [],
   "source": [
    "alphas =  [.5,2,5,7,10,15]\n",
    "x_max = 10.0\n",
    "h = 10**(-1)\n",
    "x = np.arange(-x_max, x_max + h, h)\n"
   ]
  },
  {
   "cell_type": "code",
   "execution_count": null,
   "id": "413527b0",
   "metadata": {},
   "outputs": [],
   "source": [
    "\n",
    "def second_derivative_matrix(xgrid):\n",
    "    size = len(xgrid)\n",
    "    offDiag = np.zeros(size)\n",
    "    offDiag[1] = 1\n",
    "        \n",
    "    H = -1*(-2*np.identity(size) + linalg.toeplitz(offDiag))/h**2\n",
    "    return H\n",
    "\n",
    "def potential_matrix(xgrid):\n",
    "    return np.diag(xgrid**2)\n",
    "\n",
    "def H_creator(alpha, xgrid):\n",
    "    d2 = second_derivative_matrix(xgrid)\n",
    "    pot = potential_matrix(xgrid)\n",
    "    H = d2 + alpha*pot\n",
    "    return H\n",
    "\n",
    "def hf_solve(H):\n",
    "    evals, evects = np.linalg.eigh(H)\n",
    "    return evals, evects\n",
    "\n",
    "d2 = second_derivative_matrix(x)\n",
    "pot = potential_matrix(x)"
   ]
  },
  {
   "cell_type": "markdown",
   "id": "6f840628",
   "metadata": {},
   "source": [
    "#### - M0, M1, and N Matrices\n",
    "\n",
    "We already have worked with the system represented by the following function:\n",
    "\n",
    "$$ (\\frac{d^2}{dx^2} + \\alpha x^2 - \\lambda )\\phi(x) = 0 $$\n",
    "\n",
    "However, we can put forth a reformulation of the math.\n",
    "\n",
    "Because we are solving an eigenvalue problem, we can arrive at a set of different-looking equations, using the same set of judges $\\{\\psi_i(x)\\}_{i=1}^n$ as before. We can simply plug $\\hat{\\phi}_{\\alpha_k}$ into the Schrodinger equation and project both sides onto the judges, writing\n",
    "\n",
    "\\begin{align}\n",
    "\\sum_{i=1}^na_i\\langle \\psi_j|H_{\\alpha_k}|\\phi_i\\rangle=\\lambda\\sum_{i=1}^na_i\\langle\\psi_j|\\phi_i\\rangle.\n",
    "\\end{align}\n",
    "\n",
    "Define now two matrices:\n",
    "\n",
    "\\begin{align}\n",
    "M_{ij}(\\alpha)\\equiv \\langle\\psi_j|H_\\alpha|\\phi_i\\rangle,\\quad N_{ij}\\equiv\\langle\\psi_j|\\phi_i\\rangle.\n",
    "\\end{align}\n",
    "\n",
    "These are both $n\\times n$ matrices, and we now have a generalized eigenvalue problem for $\\vec{a}$:\n",
    "\n",
    "\\begin{align}\n",
    "M(\\alpha)\\vec{a}=\\lambda N\\vec{a}.\n",
    "\\end{align}\n",
    "\n",
    "Situationally, this may be quicker to solve than finding the roots of the nonlinear system that results from the \"traditional\" RBM approach.\n",
    "\n",
    "As with traditional RBM approaches, this is only helpful if we can evaluate $M(\\alpha)$ quickly for different $\\alpha$ values. For the HO, this is not too hard: we can write\n",
    "\n",
    "\\begin{align}\n",
    "\\langle\\psi_j|H_\\alpha|\\phi_i\\rangle=\\langle\\psi_j|T|\\phi_i\\rangle+\\alpha\\langle \\psi_j|x^2|\\phi_i\\rangle\\equiv M_{ij}^{(0)}+\\alpha M_{ij}^{(1)}.\n",
    "\\end{align}\n",
    "\n",
    "Our eigenvalue equation is then\n",
    "\n",
    "\\begin{align}\n",
    "[M^{(0)}+\\alpha M^{(1)}]\\vec{a}=\\lambda N\\vec{a},\n",
    "\\end{align}\n",
    "\n",
    "and all of $M^{(0)},M^{(1)}$ and $N$ can be precomputed.\n",
    " \n",
    "A code implementation is given below.\n"
   ]
  },
  {
   "cell_type": "code",
   "execution_count": null,
   "id": "f0ea51b8",
   "metadata": {},
   "outputs": [],
   "source": [
    "psi = np.array(reduced_basis)\n",
    "phi = np.array(reduced_basis)"
   ]
  },
  {
   "cell_type": "code",
   "execution_count": null,
   "id": "e0c7bf7f",
   "metadata": {},
   "outputs": [],
   "source": [
    "def M0(psi, phi, d2, i, j):\n",
    "    M0 = np.dot(psi[j], np.dot(d2, phi[i]))\n",
    "    return M0\n",
    "\n",
    "def M1(psi, phi, pot, i, j):\n",
    "    M1 = np.dot(psi[j], np.dot(pot, phi[i]))\n",
    "    return M1\n"
   ]
  },
  {
   "cell_type": "code",
   "execution_count": null,
   "id": "d6c29411",
   "metadata": {},
   "outputs": [],
   "source": [
    "compvec = np.zeros(components)\n",
    "array = []\n",
    "for i in range(components):\n",
    "    array.append(compvec)\n",
    "H_hat = np.array(array)\n",
    "M1 = np.array(array)\n",
    "M2 = np.array(array)\n",
    "N = np.array(array)"
   ]
  },
  {
   "cell_type": "code",
   "execution_count": null,
   "id": "e0f20fb4",
   "metadata": {},
   "outputs": [],
   "source": [
    "def create_H_hat(alpha, phi, psi, pot, d2):\n",
    "    for i in range(components):\n",
    "        for j in range(i, components):\n",
    "            M1[i][j] = phi[i] @ d2 @ psi[j]\n",
    "            M1[j][i] = M1[i][j]\n",
    "            M2[i][j] = phi[i] @ pot @ psi[j]\n",
    "            M2[j][i] = M2[i][j]\n",
    "    H_hat = M1 + alpha*M2\n",
    "    return H_hat\n"
   ]
  },
  {
   "cell_type": "code",
   "execution_count": null,
   "id": "168bdba9",
   "metadata": {},
   "outputs": [],
   "source": [
    "H_hat = create_H_hat(5, phi, psi, pot, d2)"
   ]
  },
  {
   "cell_type": "code",
   "execution_count": null,
   "id": "8b3ec7a5",
   "metadata": {},
   "outputs": [],
   "source": [
    "def create_N(psi, phi):\n",
    "    for i in range(components):\n",
    "        for j in range(i, components):\n",
    "            N[i,j] = phi[i] @ psi[j]\n",
    "            N[j,i] = N[i,j]\n",
    "    return N\n",
    "\n",
    "N = create_N(psi, phi)"
   ]
  },
  {
   "cell_type": "markdown",
   "id": "852c16f3",
   "metadata": {},
   "source": [
    "The following function may be called for any value of alpha and provide a decent approximation. To get an idea of how well it works, we will graph the time and error below. We will graphically compare it to the high fidelity solution. "
   ]
  },
  {
   "cell_type": "code",
   "execution_count": null,
   "id": "8cb980ac",
   "metadata": {},
   "outputs": [],
   "source": [
    "def RBM(alpha_k):\n",
    "  H_hat = create_H_hat(alpha_k, phi, psi, pot, d2)\n",
    "  evals, evects = sci.linalg.eigh(H_hat, b=N)\n",
    "  return evals[0]"
   ]
  },
  {
   "cell_type": "code",
   "execution_count": null,
   "id": "9a038a0a",
   "metadata": {},
   "outputs": [
    {
     "ename": "NameError",
     "evalue": "name 'create_H_hat' is not defined",
     "output_type": "error",
     "traceback": [
      "\u001b[0;31m---------------------------------------------------------------------------\u001b[0m",
      "\u001b[0;31mNameError\u001b[0m                                 Traceback (most recent call last)",
      "\u001b[1;32m/workspaces/TemporaryRBM/AnotherTry (1).ipynb Cell 44\u001b[0m line \u001b[0;36m6\n\u001b[1;32m      <a href='vscode-notebook-cell://codespaces%2Bideal-meme-v6v445xgx6j4hq4p/workspaces/TemporaryRBM/AnotherTry%20%281%29.ipynb#X61sdnNjb2RlLXJlbW90ZQ%3D%3D?line=3'>4</a>\u001b[0m \u001b[39mfor\u001b[39;00m alpha \u001b[39min\u001b[39;00m alphas:\n\u001b[1;32m      <a href='vscode-notebook-cell://codespaces%2Bideal-meme-v6v445xgx6j4hq4p/workspaces/TemporaryRBM/AnotherTry%20%281%29.ipynb#X61sdnNjb2RlLXJlbW90ZQ%3D%3D?line=4'>5</a>\u001b[0m   time0 \u001b[39m=\u001b[39m time\u001b[39m.\u001b[39mtime()\n\u001b[0;32m----> <a href='vscode-notebook-cell://codespaces%2Bideal-meme-v6v445xgx6j4hq4p/workspaces/TemporaryRBM/AnotherTry%20%281%29.ipynb#X61sdnNjb2RlLXJlbW90ZQ%3D%3D?line=5'>6</a>\u001b[0m   value \u001b[39m=\u001b[39m RBM(alpha)\n\u001b[1;32m      <a href='vscode-notebook-cell://codespaces%2Bideal-meme-v6v445xgx6j4hq4p/workspaces/TemporaryRBM/AnotherTry%20%281%29.ipynb#X61sdnNjb2RlLXJlbW90ZQ%3D%3D?line=6'>7</a>\u001b[0m   time1 \u001b[39m=\u001b[39m time\u001b[39m.\u001b[39mtime()\n\u001b[1;32m      <a href='vscode-notebook-cell://codespaces%2Bideal-meme-v6v445xgx6j4hq4p/workspaces/TemporaryRBM/AnotherTry%20%281%29.ipynb#X61sdnNjb2RlLXJlbW90ZQ%3D%3D?line=7'>8</a>\u001b[0m   timeDif \u001b[39m=\u001b[39m time1\u001b[39m-\u001b[39mtime0\n",
      "\u001b[1;32m/workspaces/TemporaryRBM/AnotherTry (1).ipynb Cell 44\u001b[0m line \u001b[0;36m2\n\u001b[1;32m      <a href='vscode-notebook-cell://codespaces%2Bideal-meme-v6v445xgx6j4hq4p/workspaces/TemporaryRBM/AnotherTry%20%281%29.ipynb#X61sdnNjb2RlLXJlbW90ZQ%3D%3D?line=0'>1</a>\u001b[0m \u001b[39mdef\u001b[39;00m \u001b[39mRBM\u001b[39m(alpha_k):\n\u001b[0;32m----> <a href='vscode-notebook-cell://codespaces%2Bideal-meme-v6v445xgx6j4hq4p/workspaces/TemporaryRBM/AnotherTry%20%281%29.ipynb#X61sdnNjb2RlLXJlbW90ZQ%3D%3D?line=1'>2</a>\u001b[0m   H_hat \u001b[39m=\u001b[39m create_H_hat(alpha_k, phi, psi, pot, d2)\n\u001b[1;32m      <a href='vscode-notebook-cell://codespaces%2Bideal-meme-v6v445xgx6j4hq4p/workspaces/TemporaryRBM/AnotherTry%20%281%29.ipynb#X61sdnNjb2RlLXJlbW90ZQ%3D%3D?line=2'>3</a>\u001b[0m   evals, evects \u001b[39m=\u001b[39m sci\u001b[39m.\u001b[39mlinalg\u001b[39m.\u001b[39meigh(H_hat, b\u001b[39m=\u001b[39mN)\n\u001b[1;32m      <a href='vscode-notebook-cell://codespaces%2Bideal-meme-v6v445xgx6j4hq4p/workspaces/TemporaryRBM/AnotherTry%20%281%29.ipynb#X61sdnNjb2RlLXJlbW90ZQ%3D%3D?line=3'>4</a>\u001b[0m   \u001b[39mreturn\u001b[39;00m evals[\u001b[39m0\u001b[39m]\n",
      "\u001b[0;31mNameError\u001b[0m: name 'create_H_hat' is not defined"
     ]
    }
   ],
   "source": [
    "alphas = np.arange(0.5, 15.5, 0.5)\n",
    "errors = []\n",
    "times = []\n",
    "for alpha in alphas:\n",
    "  time0 = time.time()\n",
    "  value = RBM(alpha)\n",
    "  time1 = time.time()\n",
    "  timeDif = time1-time0\n",
    "  errorDif = abs(getExactLambda(alpha)-value)\n",
    "  times.append(timeDif)\n",
    "  errors.append(errorDif)\n",
    "\n",
    "maxT = max(htimes) + 10\n",
    "minT = min(htimes) - 10\n",
    "maxEr = max(errors) + 10\n",
    "minEr = min(errors) - 10\n",
    "\n",
    "catFig, catAx = plt.subplots()\n",
    "\n",
    "catAx.scatter(times,errors,color='blue',\n",
    "               marker='.',label='RBM')\n",
    "catAx.scatter(htimes,herrors,color='green',\n",
    "               marker='.',label='High Fidelity')\n",
    "\n",
    "catAx.set(xscale='log',yscale='log',\n",
    "           xlabel='Time (s)',ylabel='Eigenvalue Relative Error',\n",
    "           xlim=(minT, maxT),ylim=(minEr,maxEr))\n",
    "\n",
    "plt.legend()\n",
    "plt.show()"
   ]
  },
  {
   "cell_type": "markdown",
   "id": "689b4e8c",
   "metadata": {},
   "source": [
    "As you can see from the graph, the RBM solution has compari"
   ]
  },
  {
   "cell_type": "code",
   "execution_count": null,
   "id": "69b7d75c",
   "metadata": {},
   "outputs": [],
   "source": []
  },
  {
   "cell_type": "code",
   "execution_count": null,
   "id": "c8a63277",
   "metadata": {},
   "outputs": [],
   "source": []
  },
  {
   "cell_type": "code",
   "execution_count": null,
   "id": "ea9c9f97",
   "metadata": {},
   "outputs": [],
   "source": []
  },
  {
   "cell_type": "code",
   "execution_count": null,
   "id": "aeb0eafa",
   "metadata": {},
   "outputs": [],
   "source": []
  },
  {
   "cell_type": "code",
   "execution_count": null,
   "id": "d77f9777",
   "metadata": {},
   "outputs": [],
   "source": []
  },
  {
   "cell_type": "code",
   "execution_count": null,
   "id": "b9e5cf52",
   "metadata": {},
   "outputs": [],
   "source": []
  },
  {
   "cell_type": "code",
   "execution_count": null,
   "id": "740c7efc",
   "metadata": {},
   "outputs": [],
   "source": []
  },
  {
   "cell_type": "code",
   "execution_count": null,
   "id": "e63da4d3",
   "metadata": {},
   "outputs": [],
   "source": []
  },
  {
   "cell_type": "code",
   "execution_count": null,
   "id": "209b0a7a",
   "metadata": {},
   "outputs": [],
   "source": []
  },
  {
   "cell_type": "code",
   "execution_count": null,
   "id": "51a1317d",
   "metadata": {},
   "outputs": [],
   "source": []
  },
  {
   "cell_type": "code",
   "execution_count": null,
   "id": "d4cfaff8",
   "metadata": {},
   "outputs": [],
   "source": []
  },
  {
   "cell_type": "code",
   "execution_count": null,
   "id": "f9bdc02d",
   "metadata": {},
   "outputs": [],
   "source": []
  },
  {
   "cell_type": "code",
   "execution_count": null,
   "id": "0f5338aa",
   "metadata": {},
   "outputs": [],
   "source": []
  },
  {
   "cell_type": "code",
   "execution_count": null,
   "id": "479dc681",
   "metadata": {},
   "outputs": [],
   "source": []
  },
  {
   "cell_type": "code",
   "execution_count": null,
   "id": "46aede27",
   "metadata": {},
   "outputs": [],
   "source": [
    "\n"
   ]
  },
  {
   "cell_type": "code",
   "execution_count": null,
   "id": "f6ea6618-1031-414e-8990-aef98494073f",
   "metadata": {},
   "outputs": [],
   "source": []
  },
  {
   "cell_type": "code",
   "execution_count": null,
   "id": "5a2ff929-f09f-447d-ad96-240017a9755b",
   "metadata": {},
   "outputs": [
    {
     "name": "stdout",
     "output_type": "stream",
     "text": [
      "[[ 0.02       -0.01020304 -0.         ... -0.         -0.\n",
      "  -0.        ]\n",
      " [-0.01        0.02040608 -0.01041233 ... -0.         -0.\n",
      "  -0.        ]\n",
      " [-0.         -0.01020304  0.02082466 ... -0.         -0.\n",
      "  -0.        ]\n",
      " ...\n",
      " [-0.         -0.         -0.         ...  0.02082466 -0.01020304\n",
      "  -0.        ]\n",
      " [-0.         -0.         -0.         ... -0.01041233  0.02040608\n",
      "  -0.01      ]\n",
      " [-0.         -0.         -0.         ... -0.         -0.01020304\n",
      "   0.02      ]]\n",
      "[[-250.          133.33333333   -8.33333333 ...    0.\n",
      "     0.            0.        ]\n",
      " [ 133.33333333 -250.          133.33333333 ...    0.\n",
      "     0.            0.        ]\n",
      " [  -8.33333333  133.33333333 -250.         ...    0.\n",
      "     0.            0.        ]\n",
      " ...\n",
      " [   0.            0.            0.         ... -250.\n",
      "   133.33333333   -8.33333333]\n",
      " [   0.            0.            0.         ...  133.33333333\n",
      "  -250.          133.33333333]\n",
      " [   0.            0.            0.         ...   -8.33333333\n",
      "   133.33333333 -250.        ]]\n"
     ]
    }
   ],
   "source": [
    "x_max = 10.0\n",
    "h = 10**(-1)\n",
    "x = np.arange(-x_max, x_max + h, h)\n",
    "\n",
    "def hf_second_derivative(xgrid):\n",
    "    N = len(xgrid)\n",
    "    dx = xgrid[1] - xgrid[0]\n",
    "\n",
    "    # Generate the matrix for the second derivative using a five-point stencil\n",
    "    main_diag = np.ones(N) * (-5.0 / 2 / dx**2)\n",
    "    off_diag = np.ones(N - 1) * 4 / 3 / dx**2\n",
    "    off_diag2 = np.ones(N - 2) * (-1.0 / (12 * dx**2))\n",
    "\n",
    "    D2 = np.diag(main_diag) + np.diag(off_diag, k=1) + np.diag(\n",
    "      off_diag, k=-1) + np.diag(off_diag2, k=2) + np.diag(off_diag2, k=-2)\n",
    "\n",
    "    return D2\n",
    "\n",
    "def second_derivative_matrix(xgrid):\n",
    "    size = len(xgrid)\n",
    "    offDiag = np.zeros(size)\n",
    "    offDiag[1] = 1\n",
    "        \n",
    "    H = -1*(-2*np.identity(size) + sci.linalg.toeplitz(offDiag))/xgrid**2\n",
    "    return H\n",
    "print(second_derivative_matrix(x))\n",
    "print(hf_second_derivative(x))"
   ]
  }
 ],
 "metadata": {
  "kernelspec": {
   "display_name": "Python 3 (ipykernel)",
   "language": "python",
   "name": "python3"
  },
  "language_info": {
   "codemirror_mode": {
    "name": "ipython",
    "version": 3
   },
   "file_extension": ".py",
   "mimetype": "text/x-python",
   "name": "python",
   "nbconvert_exporter": "python",
   "pygments_lexer": "ipython3",
   "version": "3.10.13"
  }
 },
 "nbformat": 4,
 "nbformat_minor": 5
}
