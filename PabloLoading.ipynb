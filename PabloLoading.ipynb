{
 "cells": [
  {
   "cell_type": "code",
   "execution_count": 15,
   "metadata": {},
   "outputs": [
    {
     "name": "stdout",
     "output_type": "stream",
     "text": [
      "Somebody: Pablo, I have a question.\n",
      "Pablo: worry not, I have an answer.... \n",
      "|####################################################################################################|\n",
      "Pablo: aha, I've got it!\n",
      "[Insert very detailed analogy that makes the concept super easy to understand.]\n"
     ]
    }
   ],
   "source": [
    "from time import sleep\n",
    "\n",
    "sleep(1)\n",
    "print(\"Somebody: Pablo, I have a question.\")\n",
    "sleep(1)\n",
    "print(\"Pablo: worry not, I have an answer.... \")\n",
    "\n",
    "\n",
    "print(\"|\", end=\"\")\n",
    "for i in range(100):\n",
    "    sleep(.5)\n",
    "    print(\"#\",end=\"\")\n",
    "print(\"|\")\n",
    "sleep(1)\n",
    "print(\"Pablo: aha, I've got it!\")\n",
    "print(\"[Insert very detailed analogy that makes the concept super easy to understand.]\")"
   ]
  }
 ],
 "metadata": {
  "kernelspec": {
   "display_name": "Python 3",
   "language": "python",
   "name": "python3"
  },
  "language_info": {
   "codemirror_mode": {
    "name": "ipython",
    "version": 3
   },
   "file_extension": ".py",
   "mimetype": "text/x-python",
   "name": "python",
   "nbconvert_exporter": "python",
   "pygments_lexer": "ipython3",
   "version": "3.10.13"
  }
 },
 "nbformat": 4,
 "nbformat_minor": 2
}
